{
 "cells": [
  {
   "cell_type": "code",
   "execution_count": 9,
   "id": "86f3cd1c-1343-4e8a-b9a6-b1a4354e2483",
   "metadata": {},
   "outputs": [],
   "source": [
    "from tinydb import TinyDB, Query\n",
    "import json\n",
    "import os\n",
    "\n",
    "# Manage DB.\n",
    "class Reason:\n",
    "    def __init__(self, db_name: str) -> None:\n",
    "        self.db_instance = TinyDB(db_name)\n",
    "        self.tables = {field: self.db_instance.table(field) for field in [\"reality\", \"ideas\", \"metaphysics\"]}\n",
    "\n",
    "    def get_all(self, key: str, fields: list = []) -> list[dict]:\n",
    "        search = self.tables[key].all()\n",
    "        if fields:\n",
    "            search = [{k: v for k, v in i.items() if k in fields} for i in search]\n",
    "        return search\n",
    "        \n",
    "\n",
    "class Ontology(Reason):\n",
    "    def __init__(self, db_name: str, custom_defaults_path: str = None) -> None:\n",
    "        super().__init__(db_name)\n",
    "        self.custom_defaults_path = custom_defaults_path\n",
    "        self.DEFAULT = {\n",
    "            \"ideas\": {\n",
    "                \"name\": None,\n",
    "                \"id\": None,\n",
    "                \"cat\": \"object\",\n",
    "                \"desc\": \"An object.\",\n",
    "                \"initRequire\": [],\n",
    "                \"constRequire\": [],\n",
    "                \"initGains\": [],\n",
    "                \"constGains\": [],\n",
    "                \"replace\": [],\n",
    "                \"restrict\": [],\n",
    "                \"visible\": True,\n",
    "                \"turnToComplete\": 0\n",
    "            },\n",
    "             \"metaphysics\": {\n",
    "                \"dismantleGain\": 0.5,\n",
    "                \"turn\": 1\n",
    "            },\n",
    "            \"reality\": {\n",
    "                \"id\": None,\n",
    "                \"type\": None,\n",
    "                \"amount\": 1,\n",
    "                \"active\": True\n",
    "            }\n",
    "        }\n",
    "\n",
    "    # Set default values for partial entry.\n",
    "    def set_default_values(self, obj: dict, defaults: dict) -> dict:\n",
    "        for key in defaults.keys():\n",
    "            if key not in obj.keys():\n",
    "                obj.update({key: defaults[key]})\n",
    "        return obj\n",
    "\n",
    "    # Overwrite default values.\n",
    "    def overwrite_defaults(self) -> None:\n",
    "        try:\n",
    "            with open(custom_defaults_path, \"r\") as f:\n",
    "                self.DEFAULT = json.loads(f.read())\n",
    "            \n",
    "            print(\"Default values has been overwriten.\")\n",
    "        except OSError as e:\n",
    "            raise Exception(e)\n",
    "\n",
    "    # Check if data provided in scenrio is consistent.\n",
    "    def check_integrity(self, content: dict, content_key: str) -> list[dict]:\n",
    "        error_handle = []\n",
    "        for element in content: \n",
    "            if len([el for el in element.keys() if el in [\"name\", \"id\"]]) == 2:\n",
    "                content[content.index(element)] = self.set_default_values(element, content_key)\n",
    "            else:\n",
    "                error_handle.append(json.dumps(element))\n",
    "\n",
    "        if not error_handle:\n",
    "            return content\n",
    "        else:\n",
    "            err = '\\n'.join(error_handle)\n",
    "            print(f\"No mandatory fields id and name in objects: indexes: {err}\")\n",
    "\n",
    "    # Compile data into database.\n",
    "    def compile_data(self, scenario_dir: str) -> None:\n",
    "        valid_files = [f for f in os.listdir(scenario_dir) if f.endswith(\".json\")]\n",
    "\n",
    "        for file in valid_files:\n",
    "            with open(f\"{scenario_dir}/{file}\", \"r\") as f:\n",
    "                content = json.loads(f.read())\n",
    "                for key in content.keys():\n",
    "                    "
   ]
  },
  {
   "cell_type": "code",
   "execution_count": null,
   "id": "b81cc2f7-957f-4e32-a49f-f7309f2f7622",
   "metadata": {},
   "outputs": [],
   "source": []
  },
  {
   "cell_type": "code",
   "execution_count": 11,
   "id": "6f1ea5fe-eb86-45ed-96a8-0495e87864fb",
   "metadata": {},
   "outputs": [
    {
     "data": {
      "text/plain": [
       "49023"
      ]
     },
     "execution_count": 11,
     "metadata": {},
     "output_type": "execute_result"
    }
   ],
   "source": [
    "13170+2186+5054+9902+1438+1168+508+487+12750+2360 = 49023"
   ]
  },
  {
   "cell_type": "code",
   "execution_count": 12,
   "id": "572510b1-dd1d-4755-a970-c2f2fa10942d",
   "metadata": {},
   "outputs": [
    {
     "data": {
      "text/plain": [
       "3079"
      ]
     },
     "execution_count": 12,
     "metadata": {},
     "output_type": "execute_result"
    }
   ],
   "source": [
    "49023 - 45944"
   ]
  },
  {
   "cell_type": "code",
   "execution_count": null,
   "id": "adc5ac41-7721-4c3b-b9ac-b8d42094178e",
   "metadata": {},
   "outputs": [],
   "source": []
  }
 ],
 "metadata": {
  "kernelspec": {
   "display_name": "Python 3 (ipykernel)",
   "language": "python",
   "name": "python3"
  },
  "language_info": {
   "codemirror_mode": {
    "name": "ipython",
    "version": 3
   },
   "file_extension": ".py",
   "mimetype": "text/x-python",
   "name": "python",
   "nbconvert_exporter": "python",
   "pygments_lexer": "ipython3",
   "version": "3.10.12"
  }
 },
 "nbformat": 4,
 "nbformat_minor": 5
}

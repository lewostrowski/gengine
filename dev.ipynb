{
 "cells": [
  {
   "cell_type": "code",
   "execution_count": 1,
   "id": "34d2c1cd-0526-4c9b-9149-dc3375bb437b",
   "metadata": {},
   "outputs": [],
   "source": [
    "from tinydb import TinyDB, Query\n",
    "import os\n",
    "import json\n",
    "import numpy as np\n",
    "\n",
    "class DB:\n",
    "    def __init__(self, db_name: str) -> None:\n",
    "        self.db_instance = TinyDB(db_name)\n",
    "        self.tables = {field: self.db_instance.table(field) for field in [\"reality\", \"objects\", \"rules\"]}\n",
    "        \n",
    "        # Defaults\n",
    "        self.OBJECTS = {\n",
    "        \"name\": None,\n",
    "        \"id\": None,\n",
    "        \"cat\": \"object\",\n",
    "        \"desc\": \"An object.\",\n",
    "        \"initRequire\": [],\n",
    "        \"constRequire\": [],\n",
    "        \"initGains\": [],\n",
    "        \"constGains\": [],\n",
    "        \"replace\": [],\n",
    "        \"restrict\": [],\n",
    "        \"visible\": True\n",
    "        }\n",
    "        self.RULES = {\n",
    "            \"dismantleGain\": 0.5\n",
    "        }\n",
    "        self.REALITY = {\n",
    "            \"id\": None,\n",
    "            \"type\": None,\n",
    "            \"amount\": None\n",
    "        }\n",
    "\n",
    "class Compiler(DB):\n",
    "    def __init__(self, db_name: str, scenario_dir: str) -> None:\n",
    "        super().__init__(db_name)\n",
    "        self.scenario_dir = scenario_dir\n",
    "\n",
    "    def fill_empty(self, obj: dict, default_vals: dict) -> dict:\n",
    "        for key in default_vals.keys():\n",
    "            if key not in obj.keys():\n",
    "                obj.update({key: default_vals[key]})\n",
    "        return obj\n",
    "\n",
    "\n",
    "    def integrate_objects(self, content: list[dict]) -> list[dict]:\n",
    "        error_handle = []\n",
    "        for element in content: \n",
    "            if len([el for el in element.keys() if el in [\"name\", \"id\"]]) == 2:\n",
    "                content[content.index(element)] = self.fill_empty(element, self.OBJECTS)\n",
    "            else:\n",
    "                error_handle.append(json.dumps(element))\n",
    "\n",
    "        if not error_handle:\n",
    "            return content\n",
    "        else:\n",
    "            err = '\\n'.join(error_handle)\n",
    "            print(f\"No mandatory fields id and name in objects: indexes: {err}\")\n",
    "                    \n",
    "\n",
    "    def compile_scenario(self) -> None:\n",
    "        valid_scenario_files = [f for f in os.listdir(self.scenario_dir) if f.endswith(\".json\")]\n",
    "        \n",
    "        for file in valid_scenario_files:\n",
    "            with open(f\"{self.scenario_dir}/{file}\", \"r\") as f:\n",
    "                content = json.loads(f.read())\n",
    "                for key in content.keys():\n",
    "                    key = key.lower()\n",
    "                    \n",
    "                    if key == \"objects\":\n",
    "                        integrated_content = self.integrate_objects(content[key])\n",
    "                        self.tables[key].insert_multiple(integrated_content)\n",
    "                    elif key == \"rules\":\n",
    "                        self.tables[key].insert(self.fill_empty(content[key], self.RULES))\n",
    "                    elif key == \"reality\":\n",
    "                        for real in content[key]:\n",
    "                            if not np.isin(list(real.keys()), list(self.REALITY.keys())).all():\n",
    "                                print(\"Some reality elements does not fit schema.\")\n",
    "                                exit()\n",
    "                        self.tables[key].insert_multiple(content[key])\n"
   ]
  },
  {
   "cell_type": "code",
   "execution_count": 7,
   "id": "fd99c522-b4c5-44e1-8d53-384efcc04968",
   "metadata": {},
   "outputs": [],
   "source": [
    "class Queue(DB):\n",
    "    def __init__(self, db_name: str, queue: list[dict]) -> None:\n",
    "        super().__init__(db_name)\n",
    "        self.queue = queue\n",
    "        self.agg = {\"into_reality\": [], \"into_void\": [], \"cost\": [], \"gain\": [], \"err\": []} \n",
    "        self.summary = {}\n",
    "\n",
    "    def objects_agg(self) -> None:\n",
    "        objects = [obj for obj in self.queue if obj[\"targetType\"] == \"objects\"]\n",
    "        search = self.tables[\"objects\"].search(Query()[\"id\"].one_of([i[\"targetId\"] for i in objects]))\n",
    "\n",
    "        if \"intoVoid\" in [x[\"action\"] for x in objects]:\n",
    "            dismantle_rate = self.tables[\"rules\"].all()[0][\"dismantleGain\"]\n",
    "\n",
    "        for obj in objects:\n",
    "            obj_props = [s for s in search if s[\"id\"] == obj[\"targetId\"]][0]\n",
    "\n",
    "            if obj[\"action\"] == \"intoReality\":\n",
    "                self.agg[\"into_reality\"].append({\"id\": obj_props[\"id\"], \"type\": \"objects\"})\n",
    "                [self.agg[\"cost\"].append(c) for c in obj_props[\"initRequire\"]]\n",
    "                [self.agg[\"gain\"].append(g) for g in obj_props[\"initGains\"]]\n",
    "\n",
    "            if obj[\"action\"] == \"intoVoid\":\n",
    "                self.agg[\"into_void\"].append({\"id\": obj_props[\"id\"], \"type\": \"objects\"})\n",
    "                for dsmntl in obj_props[\"initRequire\"]:\n",
    "                    newVal = dsmntl[\"amount\"] * dismantle_rate\n",
    "                    self.agg[\"gain\"].append({\"id\": dsmntl[\"id\"], \"type\": \"objects\", \"amount\": newVal})\n",
    "                \n",
    "                    \n",
    "\n",
    "    def queue_summary(self):\n",
    "        for mode in [\"into_reality\", \"into_void\"]: \n",
    "            unique, counts = np.unique(self.agg[mode], return_counts=True)\n",
    "            self.summary.update({mode: [(unique[i], counts[i]) for i in range(0, len(unique))]})\n",
    "\n",
    "        for mode in [\"cost\", \"gains\"]:\n",
    "            pass\n",
    "        \n",
    "        \n",
    "\n",
    "    def compile_queue(self):\n",
    "        self.objects_agg()\n",
    "        #self.queue_summary()"
   ]
  },
  {
   "cell_type": "code",
   "execution_count": 8,
   "id": "739e4f4a-6984-4925-928c-00cf9cd9c703",
   "metadata": {},
   "outputs": [],
   "source": [
    "q = [\n",
    "    {\"action\": \"intoReality\", \"targetId\": \"hut_wood\", \"targetType\": \"objects\"},\n",
    "    {\"action\": \"intoReality\", \"targetId\": \"hut_wood\", \"targetType\": \"objects\"}\n",
    "]\n",
    "que = Queue(\"db.json\", q)"
   ]
  },
  {
   "cell_type": "code",
   "execution_count": 9,
   "id": "3a0edae2-5200-43b4-b90e-9e0121efd3c4",
   "metadata": {},
   "outputs": [],
   "source": [
    "que.compile_queue()"
   ]
  },
  {
   "cell_type": "code",
   "execution_count": 11,
   "id": "19a00d09-64de-4dfa-b7bf-d3ecc11faa2c",
   "metadata": {},
   "outputs": [
    {
     "ename": "TypeError",
     "evalue": "'<' not supported between instances of 'dict' and 'dict'",
     "output_type": "error",
     "traceback": [
      "\u001b[0;31m---------------------------------------------------------------------------\u001b[0m",
      "\u001b[0;31mTypeError\u001b[0m                                 Traceback (most recent call last)",
      "Cell \u001b[0;32mIn[11], line 1\u001b[0m\n\u001b[0;32m----> 1\u001b[0m \u001b[43mque\u001b[49m\u001b[38;5;241;43m.\u001b[39;49m\u001b[43mqueue_summary\u001b[49m\u001b[43m(\u001b[49m\u001b[43m)\u001b[49m\n",
      "Cell \u001b[0;32mIn[7], line 33\u001b[0m, in \u001b[0;36mQueue.queue_summary\u001b[0;34m(self)\u001b[0m\n\u001b[1;32m     31\u001b[0m \u001b[38;5;28;01mdef\u001b[39;00m \u001b[38;5;21mqueue_summary\u001b[39m(\u001b[38;5;28mself\u001b[39m):\n\u001b[1;32m     32\u001b[0m     \u001b[38;5;28;01mfor\u001b[39;00m mode \u001b[38;5;129;01min\u001b[39;00m [\u001b[38;5;124m\"\u001b[39m\u001b[38;5;124minto_reality\u001b[39m\u001b[38;5;124m\"\u001b[39m, \u001b[38;5;124m\"\u001b[39m\u001b[38;5;124minto_void\u001b[39m\u001b[38;5;124m\"\u001b[39m]: \n\u001b[0;32m---> 33\u001b[0m         unique, counts \u001b[38;5;241m=\u001b[39m \u001b[43mnp\u001b[49m\u001b[38;5;241;43m.\u001b[39;49m\u001b[43munique\u001b[49m\u001b[43m(\u001b[49m\u001b[38;5;28;43mself\u001b[39;49m\u001b[38;5;241;43m.\u001b[39;49m\u001b[43magg\u001b[49m\u001b[43m[\u001b[49m\u001b[43mmode\u001b[49m\u001b[43m]\u001b[49m\u001b[43m,\u001b[49m\u001b[43m \u001b[49m\u001b[43mreturn_counts\u001b[49m\u001b[38;5;241;43m=\u001b[39;49m\u001b[38;5;28;43;01mTrue\u001b[39;49;00m\u001b[43m)\u001b[49m\n\u001b[1;32m     34\u001b[0m         \u001b[38;5;28mself\u001b[39m\u001b[38;5;241m.\u001b[39msummary\u001b[38;5;241m.\u001b[39mupdate({mode: [(unique[i], counts[i]) \u001b[38;5;28;01mfor\u001b[39;00m i \u001b[38;5;129;01min\u001b[39;00m \u001b[38;5;28mrange\u001b[39m(\u001b[38;5;241m0\u001b[39m, \u001b[38;5;28mlen\u001b[39m(unique))]})\n\u001b[1;32m     36\u001b[0m     \u001b[38;5;28;01mfor\u001b[39;00m mode \u001b[38;5;129;01min\u001b[39;00m [\u001b[38;5;124m\"\u001b[39m\u001b[38;5;124mcost\u001b[39m\u001b[38;5;124m\"\u001b[39m, \u001b[38;5;124m\"\u001b[39m\u001b[38;5;124mgains\u001b[39m\u001b[38;5;124m\"\u001b[39m]:\n",
      "File \u001b[0;32m~/Documents/gengine_py/lib/python3.10/site-packages/numpy/lib/arraysetops.py:274\u001b[0m, in \u001b[0;36munique\u001b[0;34m(ar, return_index, return_inverse, return_counts, axis, equal_nan)\u001b[0m\n\u001b[1;32m    272\u001b[0m ar \u001b[38;5;241m=\u001b[39m np\u001b[38;5;241m.\u001b[39masanyarray(ar)\n\u001b[1;32m    273\u001b[0m \u001b[38;5;28;01mif\u001b[39;00m axis \u001b[38;5;129;01mis\u001b[39;00m \u001b[38;5;28;01mNone\u001b[39;00m:\n\u001b[0;32m--> 274\u001b[0m     ret \u001b[38;5;241m=\u001b[39m \u001b[43m_unique1d\u001b[49m\u001b[43m(\u001b[49m\u001b[43mar\u001b[49m\u001b[43m,\u001b[49m\u001b[43m \u001b[49m\u001b[43mreturn_index\u001b[49m\u001b[43m,\u001b[49m\u001b[43m \u001b[49m\u001b[43mreturn_inverse\u001b[49m\u001b[43m,\u001b[49m\u001b[43m \u001b[49m\u001b[43mreturn_counts\u001b[49m\u001b[43m,\u001b[49m\u001b[43m \u001b[49m\n\u001b[1;32m    275\u001b[0m \u001b[43m                    \u001b[49m\u001b[43mequal_nan\u001b[49m\u001b[38;5;241;43m=\u001b[39;49m\u001b[43mequal_nan\u001b[49m\u001b[43m)\u001b[49m\n\u001b[1;32m    276\u001b[0m     \u001b[38;5;28;01mreturn\u001b[39;00m _unpack_tuple(ret)\n\u001b[1;32m    278\u001b[0m \u001b[38;5;66;03m# axis was specified and not None\u001b[39;00m\n",
      "File \u001b[0;32m~/Documents/gengine_py/lib/python3.10/site-packages/numpy/lib/arraysetops.py:336\u001b[0m, in \u001b[0;36m_unique1d\u001b[0;34m(ar, return_index, return_inverse, return_counts, equal_nan)\u001b[0m\n\u001b[1;32m    334\u001b[0m     aux \u001b[38;5;241m=\u001b[39m ar[perm]\n\u001b[1;32m    335\u001b[0m \u001b[38;5;28;01melse\u001b[39;00m:\n\u001b[0;32m--> 336\u001b[0m     \u001b[43mar\u001b[49m\u001b[38;5;241;43m.\u001b[39;49m\u001b[43msort\u001b[49m\u001b[43m(\u001b[49m\u001b[43m)\u001b[49m\n\u001b[1;32m    337\u001b[0m     aux \u001b[38;5;241m=\u001b[39m ar\n\u001b[1;32m    338\u001b[0m mask \u001b[38;5;241m=\u001b[39m np\u001b[38;5;241m.\u001b[39mempty(aux\u001b[38;5;241m.\u001b[39mshape, dtype\u001b[38;5;241m=\u001b[39mnp\u001b[38;5;241m.\u001b[39mbool_)\n",
      "\u001b[0;31mTypeError\u001b[0m: '<' not supported between instances of 'dict' and 'dict'"
     ]
    }
   ],
   "source": [
    "que.queue_summary()"
   ]
  },
  {
   "cell_type": "code",
   "execution_count": 283,
   "id": "7f9c7443-a31a-4a9e-bc4c-8e91279b1c24",
   "metadata": {},
   "outputs": [],
   "source": [
    "unique, counts = np.unique([], return_counts=True)p"
   ]
  },
  {
   "cell_type": "code",
   "execution_count": 284,
   "id": "2041a15c-9081-4454-af9d-607d803e50ee",
   "metadata": {},
   "outputs": [
    {
     "name": "stdout",
     "output_type": "stream",
     "text": [
      "[] []\n"
     ]
    }
   ],
   "source": [
    "print(unique, counts)"
   ]
  },
  {
   "cell_type": "code",
   "execution_count": 167,
   "id": "0686d475-7b5c-4a15-bb30-732ee7b55e9c",
   "metadata": {},
   "outputs": [
    {
     "ename": "IsADirectoryError",
     "evalue": "[Errno 21] Is a directory: 'scenario'",
     "output_type": "error",
     "traceback": [
      "\u001b[0;31m---------------------------------------------------------------------------\u001b[0m",
      "\u001b[0;31mIsADirectoryError\u001b[0m                         Traceback (most recent call last)",
      "Cell \u001b[0;32mIn[167], line 1\u001b[0m\n\u001b[0;32m----> 1\u001b[0m \u001b[43mCompiler\u001b[49m\u001b[43m(\u001b[49m\u001b[38;5;124;43m\"\u001b[39;49m\u001b[38;5;124;43mscenario\u001b[39;49m\u001b[38;5;124;43m\"\u001b[39;49m\u001b[43m,\u001b[49m\u001b[43m \u001b[49m\u001b[38;5;124;43m\"\u001b[39;49m\u001b[38;5;124;43mdb.json\u001b[39;49m\u001b[38;5;124;43m\"\u001b[39;49m\u001b[43m)\u001b[49m\u001b[38;5;241m.\u001b[39mcompile_scenario()\n",
      "Cell \u001b[0;32mIn[74], line 36\u001b[0m, in \u001b[0;36mCompiler.__init__\u001b[0;34m(self, db_name, scenario_dir)\u001b[0m\n\u001b[1;32m     35\u001b[0m \u001b[38;5;28;01mdef\u001b[39;00m \u001b[38;5;21m__init__\u001b[39m(\u001b[38;5;28mself\u001b[39m, db_name: \u001b[38;5;28mstr\u001b[39m, scenario_dir: \u001b[38;5;28mstr\u001b[39m) \u001b[38;5;241m-\u001b[39m\u001b[38;5;241m>\u001b[39m \u001b[38;5;28;01mNone\u001b[39;00m:\n\u001b[0;32m---> 36\u001b[0m     \u001b[38;5;28;43msuper\u001b[39;49m\u001b[43m(\u001b[49m\u001b[43m)\u001b[49m\u001b[38;5;241;43m.\u001b[39;49m\u001b[38;5;21;43m__init__\u001b[39;49m\u001b[43m(\u001b[49m\u001b[43mdb_name\u001b[49m\u001b[43m)\u001b[49m\n\u001b[1;32m     37\u001b[0m     \u001b[38;5;28mself\u001b[39m\u001b[38;5;241m.\u001b[39mscenario_dir \u001b[38;5;241m=\u001b[39m scenario_dir\n",
      "Cell \u001b[0;32mIn[74], line 8\u001b[0m, in \u001b[0;36mDB.__init__\u001b[0;34m(self, db_name)\u001b[0m\n\u001b[1;32m      7\u001b[0m \u001b[38;5;28;01mdef\u001b[39;00m \u001b[38;5;21m__init__\u001b[39m(\u001b[38;5;28mself\u001b[39m, db_name: \u001b[38;5;28mstr\u001b[39m) \u001b[38;5;241m-\u001b[39m\u001b[38;5;241m>\u001b[39m \u001b[38;5;28;01mNone\u001b[39;00m:\n\u001b[0;32m----> 8\u001b[0m     \u001b[38;5;28mself\u001b[39m\u001b[38;5;241m.\u001b[39mdb_instance \u001b[38;5;241m=\u001b[39m \u001b[43mTinyDB\u001b[49m\u001b[43m(\u001b[49m\u001b[43mdb_name\u001b[49m\u001b[43m)\u001b[49m\n\u001b[1;32m      9\u001b[0m     \u001b[38;5;28mself\u001b[39m\u001b[38;5;241m.\u001b[39mtables \u001b[38;5;241m=\u001b[39m {field: \u001b[38;5;28mself\u001b[39m\u001b[38;5;241m.\u001b[39mdb_instance\u001b[38;5;241m.\u001b[39mtable(field) \u001b[38;5;28;01mfor\u001b[39;00m field \u001b[38;5;129;01min\u001b[39;00m [\u001b[38;5;124m\"\u001b[39m\u001b[38;5;124mreality\u001b[39m\u001b[38;5;124m\"\u001b[39m, \u001b[38;5;124m\"\u001b[39m\u001b[38;5;124mobjects\u001b[39m\u001b[38;5;124m\"\u001b[39m, \u001b[38;5;124m\"\u001b[39m\u001b[38;5;124mrules\u001b[39m\u001b[38;5;124m\"\u001b[39m]}\n\u001b[1;32m     11\u001b[0m     \u001b[38;5;66;03m# Defaults\u001b[39;00m\n",
      "File \u001b[0;32m~/Documents/gengine_py/lib/python3.10/site-packages/tinydb/database.py:94\u001b[0m, in \u001b[0;36mTinyDB.__init__\u001b[0;34m(self, *args, **kwargs)\u001b[0m\n\u001b[1;32m     91\u001b[0m storage \u001b[38;5;241m=\u001b[39m kwargs\u001b[38;5;241m.\u001b[39mpop(\u001b[38;5;124m'\u001b[39m\u001b[38;5;124mstorage\u001b[39m\u001b[38;5;124m'\u001b[39m, \u001b[38;5;28mself\u001b[39m\u001b[38;5;241m.\u001b[39mdefault_storage_class)\n\u001b[1;32m     93\u001b[0m \u001b[38;5;66;03m# Prepare the storage\u001b[39;00m\n\u001b[0;32m---> 94\u001b[0m \u001b[38;5;28mself\u001b[39m\u001b[38;5;241m.\u001b[39m_storage: Storage \u001b[38;5;241m=\u001b[39m \u001b[43mstorage\u001b[49m\u001b[43m(\u001b[49m\u001b[38;5;241;43m*\u001b[39;49m\u001b[43margs\u001b[49m\u001b[43m,\u001b[49m\u001b[43m \u001b[49m\u001b[38;5;241;43m*\u001b[39;49m\u001b[38;5;241;43m*\u001b[39;49m\u001b[43mkwargs\u001b[49m\u001b[43m)\u001b[49m\n\u001b[1;32m     96\u001b[0m \u001b[38;5;28mself\u001b[39m\u001b[38;5;241m.\u001b[39m_opened \u001b[38;5;241m=\u001b[39m \u001b[38;5;28;01mTrue\u001b[39;00m\n\u001b[1;32m     97\u001b[0m \u001b[38;5;28mself\u001b[39m\u001b[38;5;241m.\u001b[39m_tables: Dict[\u001b[38;5;28mstr\u001b[39m, Table] \u001b[38;5;241m=\u001b[39m {}\n",
      "File \u001b[0;32m~/Documents/gengine_py/lib/python3.10/site-packages/tinydb/storages.py:113\u001b[0m, in \u001b[0;36mJSONStorage.__init__\u001b[0;34m(self, path, create_dirs, encoding, access_mode, **kwargs)\u001b[0m\n\u001b[1;32m    110\u001b[0m \u001b[38;5;66;03m# Create the file if it doesn't exist and creating is allowed by the\u001b[39;00m\n\u001b[1;32m    111\u001b[0m \u001b[38;5;66;03m# access mode\u001b[39;00m\n\u001b[1;32m    112\u001b[0m \u001b[38;5;28;01mif\u001b[39;00m \u001b[38;5;28many\u001b[39m([character \u001b[38;5;129;01min\u001b[39;00m \u001b[38;5;28mself\u001b[39m\u001b[38;5;241m.\u001b[39m_mode \u001b[38;5;28;01mfor\u001b[39;00m character \u001b[38;5;129;01min\u001b[39;00m (\u001b[38;5;124m'\u001b[39m\u001b[38;5;124m+\u001b[39m\u001b[38;5;124m'\u001b[39m, \u001b[38;5;124m'\u001b[39m\u001b[38;5;124mw\u001b[39m\u001b[38;5;124m'\u001b[39m, \u001b[38;5;124m'\u001b[39m\u001b[38;5;124ma\u001b[39m\u001b[38;5;124m'\u001b[39m)]):  \u001b[38;5;66;03m# any of the writing modes\u001b[39;00m\n\u001b[0;32m--> 113\u001b[0m     \u001b[43mtouch\u001b[49m\u001b[43m(\u001b[49m\u001b[43mpath\u001b[49m\u001b[43m,\u001b[49m\u001b[43m \u001b[49m\u001b[43mcreate_dirs\u001b[49m\u001b[38;5;241;43m=\u001b[39;49m\u001b[43mcreate_dirs\u001b[49m\u001b[43m)\u001b[49m\n\u001b[1;32m    115\u001b[0m \u001b[38;5;66;03m# Open the file for reading/writing\u001b[39;00m\n\u001b[1;32m    116\u001b[0m \u001b[38;5;28mself\u001b[39m\u001b[38;5;241m.\u001b[39m_handle \u001b[38;5;241m=\u001b[39m \u001b[38;5;28mopen\u001b[39m(path, mode\u001b[38;5;241m=\u001b[39m\u001b[38;5;28mself\u001b[39m\u001b[38;5;241m.\u001b[39m_mode, encoding\u001b[38;5;241m=\u001b[39mencoding)\n",
      "File \u001b[0;32m~/Documents/gengine_py/lib/python3.10/site-packages/tinydb/storages.py:32\u001b[0m, in \u001b[0;36mtouch\u001b[0;34m(path, create_dirs)\u001b[0m\n\u001b[1;32m     28\u001b[0m         os\u001b[38;5;241m.\u001b[39mmakedirs(base_dir)\n\u001b[1;32m     30\u001b[0m \u001b[38;5;66;03m# Create the file by opening it in 'a' mode which creates the file if it\u001b[39;00m\n\u001b[1;32m     31\u001b[0m \u001b[38;5;66;03m# does not exist yet but does not modify its contents\u001b[39;00m\n\u001b[0;32m---> 32\u001b[0m \u001b[38;5;28;01mwith\u001b[39;00m \u001b[38;5;28;43mopen\u001b[39;49m\u001b[43m(\u001b[49m\u001b[43mpath\u001b[49m\u001b[43m,\u001b[49m\u001b[43m \u001b[49m\u001b[38;5;124;43m'\u001b[39;49m\u001b[38;5;124;43ma\u001b[39;49m\u001b[38;5;124;43m'\u001b[39;49m\u001b[43m)\u001b[49m:\n\u001b[1;32m     33\u001b[0m     \u001b[38;5;28;01mpass\u001b[39;00m\n",
      "\u001b[0;31mIsADirectoryError\u001b[0m: [Errno 21] Is a directory: 'scenario'"
     ]
    }
   ],
   "source": [
    "Compiler(\"scenario\", \"db.json\").compile_scenario()"
   ]
  },
  {
   "cell_type": "code",
   "execution_count": 36,
   "id": "bf89cac2-323e-432f-a047-3df320196ae1",
   "metadata": {},
   "outputs": [
    {
     "data": {
      "text/plain": [
       "1"
      ]
     },
     "execution_count": 36,
     "metadata": {},
     "output_type": "execute_result"
    }
   ],
   "source": [
    "tt = Query()\n",
    "x.tables[\"reality\"].insert({\"name\": \"Mikolaj\"})"
   ]
  },
  {
   "cell_type": "code",
   "execution_count": 5,
   "id": "f7e00e64-a970-43c7-b914-91eedcb1ad08",
   "metadata": {},
   "outputs": [
    {
     "ename": "NameError",
     "evalue": "name 'x' is not defined",
     "output_type": "error",
     "traceback": [
      "\u001b[0;31m---------------------------------------------------------------------------\u001b[0m",
      "\u001b[0;31mNameError\u001b[0m                                 Traceback (most recent call last)",
      "Cell \u001b[0;32mIn[5], line 1\u001b[0m\n\u001b[0;32m----> 1\u001b[0m \u001b[43mx\u001b[49m\u001b[38;5;241m.\u001b[39mtables[\u001b[38;5;124m\"\u001b[39m\u001b[38;5;124mobjects\u001b[39m\u001b[38;5;124m\"\u001b[39m]\u001b[38;5;241m.\u001b[39msearch(tt\u001b[38;5;241m.\u001b[39mid \u001b[38;5;241m==\u001b[39m \u001b[38;5;124m\"\u001b[39m\u001b[38;5;124mhut_wood\u001b[39m\u001b[38;5;124m\"\u001b[39m)\n",
      "\u001b[0;31mNameError\u001b[0m: name 'x' is not defined"
     ]
    }
   ],
   "source": [
    "x.tables[\"objects\"].search(tt.id == \"hut_wood\")"
   ]
  },
  {
   "cell_type": "code",
   "execution_count": 39,
   "id": "42d729ed-8de3-4285-838f-b817f7931e7c",
   "metadata": {},
   "outputs": [
    {
     "data": {
      "text/plain": [
       "[1]"
      ]
     },
     "execution_count": 39,
     "metadata": {},
     "output_type": "execute_result"
    }
   ],
   "source": [
    "x.tables[\"reality\"].remove(tt.name == \"Mikolaj\")"
   ]
  },
  {
   "cell_type": "code",
   "execution_count": 40,
   "id": "b768381f-fe50-4412-a91a-0af9f68b8ffb",
   "metadata": {},
   "outputs": [
    {
     "data": {
      "text/plain": [
       "[]"
      ]
     },
     "execution_count": 40,
     "metadata": {},
     "output_type": "execute_result"
    }
   ],
   "source": [
    "x.tables[\"reality\"].search(tt.name == \"Mikolaj\")"
   ]
  },
  {
   "cell_type": "code",
   "execution_count": 42,
   "id": "0cd7b792-abb8-4ac2-932d-8484ba3bf411",
   "metadata": {},
   "outputs": [
    {
     "data": {
      "text/plain": [
       "dict_keys(['reality', 'concepts', 'rules'])"
      ]
     },
     "execution_count": 42,
     "metadata": {},
     "output_type": "execute_result"
    }
   ],
   "source": [
    "x.tables.keys()"
   ]
  },
  {
   "cell_type": "code",
   "execution_count": 62,
   "id": "afe0cc73-42a2-4dbd-94fe-2f75dfdc52e3",
   "metadata": {},
   "outputs": [
    {
     "data": {
      "text/plain": [
       "False"
      ]
     },
     "execution_count": 62,
     "metadata": {},
     "output_type": "execute_result"
    }
   ],
   "source": [
    "[1,2, 3] == [1,2]"
   ]
  },
  {
   "cell_type": "code",
   "execution_count": 1,
   "id": "d867e25d-84aa-4e0b-8192-c25e00bcc37c",
   "metadata": {},
   "outputs": [
    {
     "name": "stdout",
     "output_type": "stream",
     "text": [
      "Collecting numpy\n",
      "  Downloading numpy-1.26.4-cp310-cp310-manylinux_2_17_x86_64.manylinux2014_x86_64.whl (18.2 MB)\n",
      "\u001b[2K     \u001b[38;2;114;156;31m━━━━━━━━━━━━━━━━━━━━━━━━━━━━━━━━━━━━━━━━\u001b[0m \u001b[32m18.2/18.2 MB\u001b[0m \u001b[31m25.9 MB/s\u001b[0m eta \u001b[36m0:00:00\u001b[0mm eta \u001b[36m0:00:01\u001b[0m0:01\u001b[0m:01\u001b[0m\n",
      "\u001b[?25hInstalling collected packages: numpy\n",
      "Successfully installed numpy-1.26.4\n",
      "Note: you may need to restart the kernel to use updated packages.\n"
     ]
    }
   ],
   "source": [
    "%pip install numpy"
   ]
  },
  {
   "cell_type": "code",
   "execution_count": null,
   "id": "552775ff-0962-4e32-ac1d-c332901ce578",
   "metadata": {},
   "outputs": [],
   "source": []
  }
 ],
 "metadata": {
  "kernelspec": {
   "display_name": "Python 3 (ipykernel)",
   "language": "python",
   "name": "python3"
  },
  "language_info": {
   "codemirror_mode": {
    "name": "ipython",
    "version": 3
   },
   "file_extension": ".py",
   "mimetype": "text/x-python",
   "name": "python",
   "nbconvert_exporter": "python",
   "pygments_lexer": "ipython3",
   "version": "3.10.12"
  }
 },
 "nbformat": 4,
 "nbformat_minor": 5
}

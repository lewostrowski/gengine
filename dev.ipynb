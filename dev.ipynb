{
 "cells": [
  {
   "cell_type": "code",
   "execution_count": 1,
   "id": "34d2c1cd-0526-4c9b-9149-dc3375bb437b",
   "metadata": {},
   "outputs": [],
   "source": [
    "from tinydb import TinyDB, Query\n",
    "import os\n",
    "import json\n",
    "import numpy as np\n",
    "\n",
    "class DB:\n",
    "    def __init__(self, scenario_dir: str, db_name: str) -> None:\n",
    "        self.scenario_dir = scenario_dir\n",
    "        self.db_instance = TinyDB(db_name)\n",
    "        self.tables = {field: self.db_instance.table(field) for field in [\"reality\", \"objects\", \"rules\"]}\n",
    "        \n",
    "        # Defaults\n",
    "        self.OBJECTS = {\n",
    "        \"name\": None,\n",
    "        \"id\": None,\n",
    "        \"cat\": \"object\",\n",
    "        \"desc\": \"An object.\",\n",
    "        \"initRequire\": [],\n",
    "        \"constRequire\": [],\n",
    "        \"initGains\": [],\n",
    "        \"constGains\": [],\n",
    "        \"replace\": [],\n",
    "        \"restrict\": [],\n",
    "        \"visible\": True\n",
    "    }\n",
    "    self.RULES = {\n",
    "        \"dismantleGain\": 0.5\n",
    "    }\n",
    "    self.REALITY = {\n",
    "        \"id\": None,\n",
    "        \"type\": None,\n",
    "        \"amount\": None\n",
    "    }\n",
    "\n",
    "class Compiler(DB):\n",
    "    def __init__(self, scenario_dir: str, db_name: str) -> None:\n",
    "        super().__init__(scenario_dir, db_name)\n",
    "\n",
    "    def fill_empty(self, obj: dict, default_vals: dict) -> dict:\n",
    "        for key in default_vals.keys():\n",
    "            if key not in obj.keys():\n",
    "                obj.update({key: default_vals[key]})\n",
    "        return obj\n",
    "\n",
    "\n",
    "    def integrate_objects(self, content: list[dict]) -> list[dict]:\n",
    "        error_handle = []\n",
    "        for element in content: \n",
    "            if len([el for el in element.keys() if el in [\"name\", \"id\"]]) == 2:\n",
    "                content[content.index(element)] = self.fill_empty(element, self.OBJECTS)\n",
    "            else:\n",
    "                error_handle.append(json.dumps(element))\n",
    "\n",
    "        if not error_handle:\n",
    "            return content\n",
    "        else:\n",
    "            err = '\\n'.join(error_handle)\n",
    "            print(f\"No mandatory fields id and name in objects: indexes: {err}\")\n",
    "                    \n",
    "\n",
    "    def compile_scenario(self) -> None:\n",
    "        valid_scenario_files = [f for f in os.listdir(self.scenario_dir) if f.endswith(\".json\")]\n",
    "        \n",
    "        for file in valid_scenario_files:\n",
    "            with open(f\"{self.scenario_dir}/{file}\", \"r\") as f:\n",
    "                content = json.loads(f.read())\n",
    "                for key in content.keys():\n",
    "                    key = key.lower()\n",
    "                    \n",
    "                    if key == \"objects\":\n",
    "                        integrated_content = self.integrate_objects(content[key])\n",
    "                        self.tables[key].insert_multiple(integrated_content)\n",
    "                    elif key == \"rules\":\n",
    "                        self.tables[key].insert(self.fill_empty(content[key], self.RULES))\n",
    "                    elif key == \"reality\":\n",
    "                        for real in content[key]:\n",
    "                            if not np.isin(list(real.keys()), list(self.REALITY.keys())).all():\n",
    "                                print(\"Some reality elements does not fit schema.\")\n",
    "                                exit()\n",
    "                        self.tables[key].insert_multiple(content[key])\n"
   ]
  },
  {
   "cell_type": "code",
   "execution_count": 2,
   "id": "0686d475-7b5c-4a15-bb30-732ee7b55e9c",
   "metadata": {},
   "outputs": [],
   "source": [
    "Compiler(\"scenario\", \"db.json\").compile_scenario()"
   ]
  },
  {
   "cell_type": "code",
   "execution_count": 36,
   "id": "bf89cac2-323e-432f-a047-3df320196ae1",
   "metadata": {},
   "outputs": [
    {
     "data": {
      "text/plain": [
       "1"
      ]
     },
     "execution_count": 36,
     "metadata": {},
     "output_type": "execute_result"
    }
   ],
   "source": [
    "tt = Query()\n",
    "x.tables[\"reality\"].insert({\"name\": \"Mikolaj\"})"
   ]
  },
  {
   "cell_type": "code",
   "execution_count": 38,
   "id": "f7e00e64-a970-43c7-b914-91eedcb1ad08",
   "metadata": {},
   "outputs": [
    {
     "data": {
      "text/plain": [
       "[{'name': 'Mikolaj'}]"
      ]
     },
     "execution_count": 38,
     "metadata": {},
     "output_type": "execute_result"
    }
   ],
   "source": [
    "x.tables[\"reality\"].search(tt.name == \"Mikolaj\")"
   ]
  },
  {
   "cell_type": "code",
   "execution_count": 39,
   "id": "42d729ed-8de3-4285-838f-b817f7931e7c",
   "metadata": {},
   "outputs": [
    {
     "data": {
      "text/plain": [
       "[1]"
      ]
     },
     "execution_count": 39,
     "metadata": {},
     "output_type": "execute_result"
    }
   ],
   "source": [
    "x.tables[\"reality\"].remove(tt.name == \"Mikolaj\")"
   ]
  },
  {
   "cell_type": "code",
   "execution_count": 40,
   "id": "b768381f-fe50-4412-a91a-0af9f68b8ffb",
   "metadata": {},
   "outputs": [
    {
     "data": {
      "text/plain": [
       "[]"
      ]
     },
     "execution_count": 40,
     "metadata": {},
     "output_type": "execute_result"
    }
   ],
   "source": [
    "x.tables[\"reality\"].search(tt.name == \"Mikolaj\")"
   ]
  },
  {
   "cell_type": "code",
   "execution_count": 42,
   "id": "0cd7b792-abb8-4ac2-932d-8484ba3bf411",
   "metadata": {},
   "outputs": [
    {
     "data": {
      "text/plain": [
       "dict_keys(['reality', 'concepts', 'rules'])"
      ]
     },
     "execution_count": 42,
     "metadata": {},
     "output_type": "execute_result"
    }
   ],
   "source": [
    "x.tables.keys()"
   ]
  },
  {
   "cell_type": "code",
   "execution_count": 62,
   "id": "afe0cc73-42a2-4dbd-94fe-2f75dfdc52e3",
   "metadata": {},
   "outputs": [
    {
     "data": {
      "text/plain": [
       "False"
      ]
     },
     "execution_count": 62,
     "metadata": {},
     "output_type": "execute_result"
    }
   ],
   "source": [
    "[1,2, 3] == [1,2]"
   ]
  },
  {
   "cell_type": "code",
   "execution_count": 63,
   "id": "d867e25d-84aa-4e0b-8192-c25e00bcc37c",
   "metadata": {},
   "outputs": [
    {
     "name": "stdout",
     "output_type": "stream",
     "text": [
      "Collecting numpy\n",
      "  Downloading numpy-1.26.4-cp310-cp310-manylinux_2_17_x86_64.manylinux2014_x86_64.whl (18.2 MB)\n",
      "\u001b[2K     \u001b[38;2;114;156;31m━━━━━━━━━━━━━━━━━━━━━━━━━━━━━━━━━━━━━━━━\u001b[0m \u001b[32m18.2/18.2 MB\u001b[0m \u001b[31m28.9 MB/s\u001b[0m eta \u001b[36m0:00:00\u001b[0mm eta \u001b[36m0:00:01\u001b[0m[36m0:00:01\u001b[0m\n",
      "\u001b[?25hInstalling collected packages: numpy\n",
      "Successfully installed numpy-1.26.4\n",
      "Note: you may need to restart the kernel to use updated packages.\n"
     ]
    }
   ],
   "source": [
    "%pip install numpy"
   ]
  },
  {
   "cell_type": "code",
   "execution_count": null,
   "id": "552775ff-0962-4e32-ac1d-c332901ce578",
   "metadata": {},
   "outputs": [],
   "source": []
  }
 ],
 "metadata": {
  "kernelspec": {
   "display_name": "Python 3 (ipykernel)",
   "language": "python",
   "name": "python3"
  },
  "language_info": {
   "codemirror_mode": {
    "name": "ipython",
    "version": 3
   },
   "file_extension": ".py",
   "mimetype": "text/x-python",
   "name": "python",
   "nbconvert_exporter": "python",
   "pygments_lexer": "ipython3",
   "version": "3.10.12"
  }
 },
 "nbformat": 4,
 "nbformat_minor": 5
}
